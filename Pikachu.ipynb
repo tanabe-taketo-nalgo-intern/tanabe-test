{
  "nbformat": 4,
  "nbformat_minor": 0,
  "metadata": {
    "accelerator": "GPU",
    "colab": {
      "name": "Pikachu.ipynb",
      "provenance": [],
      "authorship_tag": "ABX9TyN9HWCmUM4XWgGreUNtbW/b",
      "include_colab_link": true
    },
    "kernelspec": {
      "display_name": "Python 3",
      "name": "python3"
    },
    "language_info": {
      "name": "python"
    }
  },
  "cells": [
    {
      "cell_type": "markdown",
      "metadata": {
        "id": "view-in-github",
        "colab_type": "text"
      },
      "source": [
        "<a href=\"https://colab.research.google.com/github/tanabe-taketo-nalgo-intern/tanabe-test/blob/main/Pikachu.ipynb\" target=\"_parent\"><img src=\"https://colab.research.google.com/assets/colab-badge.svg\" alt=\"Open In Colab\"/></a>"
      ]
    },
    {
      "cell_type": "code",
      "metadata": {
        "colab": {
          "base_uri": "https://localhost:8080/"
        },
        "id": "N8hUh3zGE7md",
        "outputId": "1b2ac3e3-7dfd-4821-e31f-31ad96ddd069"
      },
      "source": [
        "!git clone https://github.com/33taro/pikachu_image_classification.git"
      ],
      "execution_count": null,
      "outputs": [
        {
          "name": "stdout",
          "output_type": "stream",
          "text": [
            "Cloning into 'pikachu_image_classification'...\n",
            "remote: Enumerating objects: 3049, done.\u001b[K\n",
            "remote: Total 3049 (delta 0), reused 0 (delta 0), pack-reused 3049\u001b[K\n",
            "Receiving objects: 100% (3049/3049), 173.92 MiB | 24.98 MiB/s, done.\n",
            "Resolving deltas: 100% (19/19), done.\n"
          ]
        }
      ]
    },
    {
      "cell_type": "code",
      "metadata": {
        "colab": {
          "base_uri": "https://localhost:8080/"
        },
        "id": "99cf1-ENFDk4",
        "outputId": "f5112cba-c218-41aa-80db-e17186c23422"
      },
      "source": [
        "%cd /content/pikachu_image_classification/"
      ],
      "execution_count": null,
      "outputs": [
        {
          "name": "stdout",
          "output_type": "stream",
          "text": [
            "/content/pikachu_image_classification\n"
          ]
        }
      ]
    },
    {
      "cell_type": "code",
      "metadata": {
        "colab": {
          "base_uri": "https://localhost:8080/"
        },
        "id": "ZeFGRzHqDuqk",
        "outputId": "ca5d2714-e9bb-4af6-fd3b-4c0b9633b70f"
      },
      "source": [
        "import tensorflow as tf\n",
        "from tensorflow.keras.preprocessing import image_dataset_from_directory\n",
        "from sklearn.model_selection import train_test_split\n",
        "import matplotlib.pyplot as plt\n",
        "import numpy as np\n",
        "\n",
        "\n",
        "# 画像ディレクトリ\n",
        "IMG_DIR = 'img'\n",
        "# バッチサイズ\n",
        "BATCH_SIZE = 32\n",
        "# VGG16を使用するため以下のサイズに設定\n",
        "IMAGE_SIZE = (224, 224)\n",
        "IMAGE_SHAPE = IMAGE_SIZE + (3, )\n",
        "\n",
        "# 訓練、検証、テストの比率\n",
        "TRAIN_SIZE = 0.6\n",
        "VALIDATION_SIZE = 0.2\n",
        "TEST_SIZE = 0.2\n",
        "\n",
        "# 実行毎に同一の結果が得られるようシード値を固定\n",
        "RANDOM_STATE = 123\n",
        "\n",
        "# 学習率\n",
        "LEARNING_RATE = 3e-5\n",
        "\n",
        "# エポック数\n",
        "INITIAL_EPOCHS = 5\n",
        "\n",
        "# ------------------------------------------------------------\n",
        "# 1.画像とラベル取得と訓練・検証・テスト分割\n",
        "# ------------------------------------------------------------\n",
        "# (1) 画像読み込み\n",
        "image_dataset = image_dataset_from_directory(IMG_DIR,\n",
        "                                             shuffle=False,\n",
        "                                             batch_size=BATCH_SIZE,\n",
        "                                             image_size=IMAGE_SIZE\n",
        "                                             )\n",
        "\n",
        "# (2) 画像データセットを X:画像 と Y:クラス名 で各々配列化\n",
        "image_class_names = image_dataset.class_names\n",
        "img_X = []\n",
        "img_Y = []\n",
        "for img_ds_batch in list(image_dataset.as_numpy_iterator()):\n",
        "    img_X.extend(img_ds_batch[0])\n",
        "    img_Y.extend(img_ds_batch[1])\n",
        "\n",
        "img_X = np.asarray(img_X)\n",
        "img_Y = np.asarray(img_Y)\n",
        "\n",
        "# (3) 画像データの標準化\n",
        "img_X = tf.keras.applications.vgg16.preprocess_input(img_X)\n",
        "\n",
        "# (4) データセットを訓練・検証・テストに分割\n",
        "# データセットを[train, (validation + test)]に分割\n",
        "img_X_train, imp_X_tmp, img_Y_train, img_Y_tmp = train_test_split(\n",
        "    img_X, img_Y,\n",
        "    train_size=TRAIN_SIZE,\n",
        "    random_state=RANDOM_STATE,\n",
        "    stratify=img_Y)\n",
        "\n",
        "# (validation + test)データセットを[validation, test]に分割\n",
        "VAL_TEST_SPLIT_SIZE = VALIDATION_SIZE / (VALIDATION_SIZE + TEST_SIZE)\n",
        "img_X_valid, img_X_test, img_Y_valid, img_Y_test = train_test_split(\n",
        "    imp_X_tmp, img_Y_tmp,\n",
        "    train_size=VAL_TEST_SPLIT_SIZE,\n",
        "    random_state=RANDOM_STATE,\n",
        "    stratify=img_Y_tmp)"
      ],
      "execution_count": null,
      "outputs": [
        {
          "name": "stdout",
          "output_type": "stream",
          "text": [
            "Found 1698 files belonging to 8 classes.\n"
          ]
        }
      ]
    },
    {
      "cell_type": "code",
      "metadata": {
        "colab": {
          "background_save": true,
          "base_uri": "https://localhost:8080/"
        },
        "id": "P2BTx0MoFbhA",
        "outputId": "159a17da-b12b-4fc8-8036-f59f81ab32d8"
      },
      "source": [
        "# ------------------------------------------------------------\n",
        "# 2.モデル構築と学習\n",
        "# ------------------------------------------------------------\n",
        "# (1) 転移学習のベースモデルとしてVGG16を宣言\n",
        "base_model = tf.keras.applications.vgg16.VGG16(include_top=False,\n",
        "                                               input_shape=IMAGE_SHAPE,\n",
        "                                               weights='imagenet')\n",
        "\n",
        "# (2) 畳み込みベースの凍結\n",
        "base_model.trainable = False\n",
        "\n",
        "# (3) モデル構築\n",
        "# Flatten(=平坦化層)追加\n",
        "x = tf.keras.layers.Flatten()(base_model.output)\n",
        "# FC1層追加\n",
        "x = tf.keras.layers.Dense(4096, activation='relu')(x)\n",
        "# FC2層追加\n",
        "x = tf.keras.layers.Dense(4096, activation='relu')(x)\n",
        "# 入力画像の形状\n",
        "transfer_learning_inputs = base_model.inputs\n",
        "# predictions層の追加\n",
        "# 今回分類するクラス数を指定\n",
        "image_class_num = len(image_class_names)\n",
        "transfer_learning_prediction = tf.keras.layers.Dense(\n",
        "                                 image_class_num, activation='softmax')(x)\n",
        "# 転移学習モデル構築\n",
        "transfer_learning_model = tf.keras.Model(inputs=transfer_learning_inputs,\n",
        "                                         outputs=transfer_learning_prediction)\n",
        "\n",
        "# (4) モデルのコンパイル\n",
        "transfer_learning_model.compile(optimizer=\n",
        "                                    tf.keras.optimizers.Adam(learning_rate=LEARNING_RATE),\n",
        "                                loss='sparse_categorical_crossentropy',\n",
        "                                metrics=['accuracy'])\n",
        "\n",
        "# (5) モデルの学習\n",
        "history = transfer_learning_model.fit(img_X_train, img_Y_train,\n",
        "                                      epochs=INITIAL_EPOCHS,\n",
        "                                      batch_size=BATCH_SIZE,\n",
        "                                      validation_data=(img_X_valid, img_Y_valid))\n"
      ],
      "execution_count": null,
      "outputs": [
        {
          "name": "stdout",
          "output_type": "stream",
          "text": [
            "Downloading data from https://storage.googleapis.com/tensorflow/keras-applications/vgg16/vgg16_weights_tf_dim_ordering_tf_kernels_notop.h5\n",
            "58892288/58889256 [==============================] - 0s 0us/step\n",
            "58900480/58889256 [==============================] - 0s 0us/step\n",
            "Epoch 1/5\n",
            "32/32 [==============================] - 691s 22s/step - loss: 6.3543 - accuracy: 0.4745 - val_loss: 2.6776 - val_accuracy: 0.6706\n",
            "Epoch 2/5\n",
            "32/32 [==============================] - 688s 22s/step - loss: 0.1705 - accuracy: 0.9627 - val_loss: 2.5466 - val_accuracy: 0.7324\n",
            "Epoch 3/5\n",
            "32/32 [==============================] - 688s 22s/step - loss: 0.0312 - accuracy: 0.9892 - val_loss: 2.2398 - val_accuracy: 0.7588\n",
            "Epoch 4/5\n",
            "32/32 [==============================] - 688s 22s/step - loss: 0.0037 - accuracy: 0.9990 - val_loss: 2.2741 - val_accuracy: 0.7559\n",
            "Epoch 5/5\n",
            "32/32 [==============================] - 688s 22s/step - loss: 0.0025 - accuracy: 0.9990 - val_loss: 2.2031 - val_accuracy: 0.7647\n"
          ]
        }
      ]
    },
    {
      "cell_type": "code",
      "metadata": {
        "colab": {
          "base_uri": "https://localhost:8080/",
          "height": 530
        },
        "id": "EPfuxAzNG4uT",
        "outputId": "fbc0e0ef-2985-4fbb-cd7c-b54c5e02b200"
      },
      "source": [
        "# ------------------------------------------------------------\n",
        "# 3.画像分類と精度\n",
        "# ------------------------------------------------------------\n",
        "# テストデータの画像分類結果を標準出力\n",
        "# [損失関数, 正解率]\n",
        "print(transfer_learning_model.evaluate(img_X_test, img_Y_test, verbose=0))\n",
        "\n",
        "# 訓練と検証\n",
        "acc = history.history['accuracy']\n",
        "val_acc = history.history['val_accuracy']\n",
        "\n",
        "loss = history.history['loss']\n",
        "val_loss = history.history['val_loss']\n",
        "\n",
        "# 正解率\n",
        "plt.figure(figsize=(8, 8))\n",
        "plt.subplot(2, 1, 1)\n",
        "plt.plot(acc, label='Training Accuracy')\n",
        "plt.plot(val_acc, label='Validation Accuracy')\n",
        "plt.legend(loc='lower right')\n",
        "plt.ylabel('Accuracy')\n",
        "plt.ylim([min(plt.ylim()),1])\n",
        "plt.title('Training and Validation Accuracy')\n",
        "\n",
        "# 損失関数\n",
        "plt.subplot(2, 1, 2)\n",
        "plt.plot(loss, label='Training Loss')\n",
        "plt.plot(val_loss, label='Validation Loss')\n",
        "plt.legend(loc='upper right')\n",
        "plt.ylabel('Cross Entropy')\n",
        "plt.ylim([0, 10.0])\n",
        "plt.title('Training and Validation Loss')\n",
        "plt.xlabel('epoch')\n",
        "plt.show()"
      ],
      "execution_count": null,
      "outputs": [
        {
          "name": "stdout",
          "output_type": "stream",
          "text": [
            "[2.4406938552856445, 0.7264705896377563]\n"
          ]
        },
        {
          "data": {
            "image/png": "[encoded data removed]",
            "text/plain": [
              "<Figure size 576x576 with 2 Axes>"
            ]
          },
          "metadata": {},
          "output_type": "display_data"
        }
      ]
    }
  ]
}